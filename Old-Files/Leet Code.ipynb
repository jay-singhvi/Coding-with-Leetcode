{
 "cells": [
  {
   "attachments": {},
   "cell_type": "markdown",
   "id": "16dfa82c",
   "metadata": {},
   "source": [
    "1 - Two Sum\n",
    "https://leetcode.com/problems/two-sum/"
   ]
  },
  {
   "cell_type": "code",
   "execution_count": null,
   "id": "5e91da24",
   "metadata": {},
   "outputs": [],
   "source": [
    "class Solution:\n",
    "    def twoSum(self, nums, target):\n",
    "        a = []\n",
    "        for i in range(len(nums)):\n",
    "            for j in range(i, len(nums)):\n",
    "                if nums[i] + nums[j] == target and i != j:\n",
    "                    a = [i, j]\n",
    "        return a\n",
    "\n",
    "\n",
    "nums = [2, 4, 11, 3]\n",
    "target = 6\n",
    "obj = Solution()\n",
    "obj.twoSum(nums, target)"
   ]
  },
  {
   "attachments": {},
   "cell_type": "markdown",
   "id": "56944484",
   "metadata": {},
   "source": [
    "2 - Add Two Numbers\n",
    "https://leetcode.com/problems/add-two-numbers/"
   ]
  },
  {
   "cell_type": "code",
   "execution_count": null,
   "id": "477ffaa6",
   "metadata": {},
   "outputs": [],
   "source": [
    "# Definition for singly-linked list.\n",
    "class ListNode:\n",
    "    def __init__(self, val=0, next=None):\n",
    "        self.val = val\n",
    "        self.next = next\n",
    "\n",
    "\n",
    "class Solution:\n",
    "    def ll_to_int(self, ll):\n",
    "        str1 = \"\"\n",
    "        while ll:\n",
    "            str1 = str(ll.val) + str1\n",
    "            ll = ll.next\n",
    "        return int(str1)\n",
    "\n",
    "    def addTwoNumbers(self, l1, l2):\n",
    "        num_sum_str = str(self.ll_to_int(l1) + self.ll_to_int(l2))\n",
    "\n",
    "        l3 = ListNode()\n",
    "        dummy = l3\n",
    "        for i in reversed(range(len(num_sum_str))):\n",
    "            val = int(num_sum_str[i])\n",
    "            l3.next = ListNode(val)\n",
    "            l3 = l3.next\n",
    "\n",
    "        return dummy.next"
   ]
  },
  {
   "attachments": {},
   "cell_type": "markdown",
   "id": "da30010c",
   "metadata": {},
   "source": [
    "4 - Median of Two Sorted Arrays\n",
    "https://leetcode.com/problems/median-of-two-sorted-arrays/"
   ]
  },
  {
   "cell_type": "code",
   "execution_count": null,
   "id": "b5aef65f",
   "metadata": {},
   "outputs": [],
   "source": [
    "from statistics import median\n",
    "\n",
    "\n",
    "class Solution:\n",
    "    def findMedianSortedArrays(self, nums1, nums2):\n",
    "        nums1 = nums1 + nums2\n",
    "        nums1.sort()\n",
    "        return median(nums1)\n",
    "\n",
    "\n",
    "nums1 = [1, 2]\n",
    "nums2 = [3, 4]\n",
    "\n",
    "print(Solution().findMedianSortedArrays(nums1, nums2))"
   ]
  },
  {
   "attachments": {},
   "cell_type": "markdown",
   "id": "9defd66c",
   "metadata": {},
   "source": [
    "9 - Palindrome Number\n",
    "https://leetcode.com/problems/palindrome-number/"
   ]
  },
  {
   "cell_type": "code",
   "execution_count": null,
   "id": "b1ba0b04",
   "metadata": {},
   "outputs": [],
   "source": [
    "class Solution:\n",
    "    def isPalindrome(self, x):\n",
    "        return str(x) == str(x)[::-1]\n",
    "\n",
    "\n",
    "print(Solution().isPalindrome(121))"
   ]
  },
  {
   "attachments": {},
   "cell_type": "markdown",
   "id": "e0e8bb79",
   "metadata": {},
   "source": [
    "10 - Regular Expression Matching\n",
    "https://leetcode.com/problems/regular-expression-matching/"
   ]
  },
  {
   "cell_type": "code",
   "execution_count": null,
   "id": "d1a34e8f",
   "metadata": {},
   "outputs": [],
   "source": [
    "import re\n",
    "\n",
    "\n",
    "\n",
    "class Solution:\n",
    "\n",
    "    def isMatch(self, s, p):\n",
    "\n",
    "        return (re.fullmatch(p, s)) != None\n",
    "\n",
    "\n",
    "Solution().isMatch(\"aa\", \"a\")\n",
    "Solution().isMatch(\"aa\", \"a\")\n",
    "Solution().isMatch(\"aa\", \"a\")"
   ]
  },
  {
   "attachments": {},
   "cell_type": "markdown",
   "id": "3f7dce21",
   "metadata": {},
   "source": [
    "13 - Roman to Integer\n",
    "https://leetcode.com/problems/roman-to-integer/"
   ]
  },
  {
   "cell_type": "code",
   "execution_count": null,
   "id": "bc29c30a",
   "metadata": {},
   "outputs": [],
   "source": [
    "import numpy as np\n",
    "\n",
    "\n",
    "\n",
    "class Solution:\n",
    "\n",
    "    def romanToInt(self, s):\n",
    "\n",
    "        dict_of_roman_to_int = {\n",
    "            \"I\": 1,\n",
    "            \"V\": 5,\n",
    "            \"X\": 10,\n",
    "            \"L\": 50,\n",
    "            \"C\": 100,\n",
    "            \"D\": 500,\n",
    "            \"M\": 1000,\n",
    "        }\n",
    "\n",
    "        arr_roman = []\n",
    "\n",
    "        arr_int = []\n",
    "\n",
    "        j = 0\n",
    "\n",
    "\n",
    "        for i in s:\n",
    "\n",
    "            arr_roman.append(i)\n",
    "\n",
    "            arr_int.append(dict_of_roman_to_int[i])\n",
    "\n",
    "\n",
    "        for i in range(len(arr_roman) - 1):\n",
    "\n",
    "            j = i + 1\n",
    "\n",
    "            if arr_roman[i] + arr_roman[j] in (\"IV\", \"IX\"):\n",
    "\n",
    "                arr_int.append(-2)\n",
    "\n",
    "            if arr_roman[i] + arr_roman[j] in (\"XL\", \"XC\"):\n",
    "\n",
    "                arr_int.append(-20)\n",
    "\n",
    "            if arr_roman[i] + arr_roman[j] in (\"CD\", \"CM\"):\n",
    "\n",
    "                arr_int.append(-200)\n",
    "\n",
    "        return np.sum(arr_int)\n",
    "\n",
    "\n",
    "\n",
    "print(Solution().romanToInt(\"MCMXCIV\"))"
   ]
  },
  {
   "attachments": {},
   "cell_type": "markdown",
   "id": "43ed1016",
   "metadata": {},
   "source": [
    "14 - Longest Common Prefix\n",
    "https://leetcode.com/problems/longest-common-prefix/"
   ]
  },
  {
   "cell_type": "code",
   "execution_count": null,
   "id": "98ea736b",
   "metadata": {},
   "outputs": [],
   "source": [
    "class Solution:\n",
    "    def longestCommonPrefix(self, strs):\n",
    "        str_a = \"\"\n",
    "        strs.sort(key=len)\n",
    "\n",
    "        for i in range(len(strs[0])):\n",
    "            for s in strs:\n",
    "                if (i == len(s)) or (s[i] != strs[0][i]):\n",
    "                    return str_a\n",
    "            str_a += strs[0][i]\n",
    "\n",
    "        return str_a"
   ]
  },
  {
   "attachments": {},
   "cell_type": "markdown",
   "id": "c23a9924",
   "metadata": {},
   "source": [
    "20 - Valid Parentheses\n",
    "https://leetcode.com/problems/valid-parentheses/"
   ]
  },
  {
   "cell_type": "code",
   "execution_count": null,
   "id": "ba1af225",
   "metadata": {},
   "outputs": [],
   "source": [
    "class Solution:\n",
    "    def isValid(self, s):\n",
    "        dict_of_brackets = {\"}\": \"{\", \")\": \"(\", \"]\": \"[\"}\n",
    "        s_temp = []\n",
    "\n",
    "        for i in s:\n",
    "            if i in dict_of_brackets:\n",
    "                if s_temp and s_temp[-1] == dict_of_brackets[i]:\n",
    "                    s_temp.pop()\n",
    "                else:\n",
    "                    return False\n",
    "            else:\n",
    "                s_temp.append(i)\n",
    "        return not s_temp\n",
    "\n",
    "\n",
    "Solution().isValid(\"()[]{}\")"
   ]
  },
  {
   "attachments": {},
   "cell_type": "markdown",
   "id": "948dafa7",
   "metadata": {},
   "source": [
    "21 - Merge Two Sorted Lists\n",
    "https://leetcode.com/problems/merge-two-sorted-lists/"
   ]
  },
  {
   "cell_type": "code",
   "execution_count": null,
   "id": "1f3f0a63",
   "metadata": {},
   "outputs": [],
   "source": [
    "# Definition for singly-linked list.\n",
    "class ListNode:\n",
    "    def __init__(self, val=0, next=None):\n",
    "        self.val = val\n",
    "        self.next = next\n",
    "\n",
    "\n",
    "class Solution:\n",
    "    def mergeTwoLists(self, list1, list2):\n",
    "        if list1 is None:\n",
    "            return list2\n",
    "        if list2 is None:\n",
    "            return list1\n",
    "\n",
    "        if list1.val < list2.val:\n",
    "            list_temp = list3 = ListNode(list1.val)\n",
    "            list1 = list1.next\n",
    "        else:\n",
    "            list_temp = list3 = ListNode(list2.val)\n",
    "            list2 = list2.next\n",
    "\n",
    "        while list1 and list2:\n",
    "            if list1.val < list2.val:\n",
    "                list_temp.next = ListNode(list1.val)\n",
    "                list1 = list1.next\n",
    "            else:\n",
    "                list_temp.next = ListNode(list2.val)\n",
    "                list2 = list2.next\n",
    "            list_temp = list_temp.next\n",
    "\n",
    "        while list1:\n",
    "            list_temp.next = ListNode(list1.val)\n",
    "            list1 = list1.next\n",
    "            list_temp = list_temp.next\n",
    "\n",
    "        while list2:\n",
    "            list_temp.next = ListNode(list2.val)\n",
    "            list2 = list2.next\n",
    "            list_temp = list_temp.next\n",
    "        return list3"
   ]
  },
  {
   "attachments": {},
   "cell_type": "markdown",
   "id": "29b70157",
   "metadata": {},
   "source": [
    "26 - Remove Duplicates from Sorted Array\n",
    "https://leetcode.com/problems/remove-duplicates-from-sorted-array/"
   ]
  },
  {
   "cell_type": "code",
   "execution_count": null,
   "id": "460907ea",
   "metadata": {},
   "outputs": [],
   "source": [
    "class Solution:\n",
    "    def removeDuplicates(self, nums):\n",
    "        if nums and len(nums) > 1:\n",
    "            for i in range(len(nums) - 1):\n",
    "                if nums[i] == nums[i + 1]:\n",
    "                    nums[i] = None\n",
    "\n",
    "        while None in nums:\n",
    "            nums.remove(None)\n",
    "\n",
    "        num = len(nums)\n",
    "        print(nums)\n",
    "\n",
    "        return num\n",
    "\n",
    "\n",
    "a = [1, 1, 2]\n",
    "print(Solution().removeDuplicates(a))"
   ]
  },
  {
   "attachments": {},
   "cell_type": "markdown",
   "id": "813b65b7",
   "metadata": {},
   "source": [
    "27 - Remove Element\n",
    "https://leetcode.com/problems/remove-element/"
   ]
  },
  {
   "cell_type": "code",
   "execution_count": null,
   "id": "bb8d9eb2",
   "metadata": {},
   "outputs": [],
   "source": [
    "class Solution:\n",
    "    def removeElement(self, nums, val):\n",
    "        while val in nums:\n",
    "            nums.remove(val)\n",
    "\n",
    "        num = len(nums)\n",
    "        print(nums)\n",
    "        return num"
   ]
  },
  {
   "attachments": {},
   "cell_type": "markdown",
   "id": "1d08b019",
   "metadata": {},
   "source": [
    "28 - Find the Index of the First Occurrence in a String\n",
    "https://leetcode.com/problems/find-the-index-of-the-first-occurrence-in-a-string/"
   ]
  },
  {
   "cell_type": "code",
   "execution_count": null,
   "id": "25dc2a74",
   "metadata": {},
   "outputs": [],
   "source": [
    "class Solution:\n",
    "    def strStr(self, haystack, needle):\n",
    "        return haystack.find(needle)\n",
    "\n",
    "\n",
    "Solution().strStr(\"leetcode\", \"leeto\")"
   ]
  },
  {
   "attachments": {},
   "cell_type": "markdown",
   "id": "38a7a141",
   "metadata": {},
   "source": [
    "29 - Divide Two Integers\n",
    "https://leetcode.com/problems/divide-two-integers/"
   ]
  },
  {
   "cell_type": "code",
   "execution_count": null,
   "id": "f4aa424a",
   "metadata": {},
   "outputs": [],
   "source": [
    "class Solution:\n",
    "    def divide(self, dividend, divisor):\n",
    "        quotient = 0\n",
    "        dd = dividend\n",
    "        dv = divisor\n",
    "\n",
    "        divisor = abs(divisor)\n",
    "        dividend = abs(dividend)\n",
    "\n",
    "        if dividend - divisor == 0:\n",
    "            quotient = 1\n",
    "        else:\n",
    "            while dividend >= divisor:\n",
    "                temp = divisor\n",
    "                multiplier = 1\n",
    "                while dividend >= temp:\n",
    "                    dividend -= temp\n",
    "                    quotient += multiplier\n",
    "                    multiplier += multiplier\n",
    "                    temp += temp\n",
    "\n",
    "        if (dd < 0 and dv >= 0) or (dd >= 0 and dv < 0):\n",
    "            quotient = -quotient\n",
    "\n",
    "        return min(2147483647, max(-2147483648, quotient))\n",
    "\n",
    "\n",
    "print(Solution().divide(-100, -1))\n",
    "print(Solution().divide(-100, 1))\n",
    "print(Solution().divide(100, -1))\n",
    "print(Solution().divide(100, 1))\n",
    "print(Solution().divide(0, 1))\n",
    "print(Solution().divide(-2147483648, -1))"
   ]
  },
  {
   "attachments": {},
   "cell_type": "markdown",
   "id": "1b9a1d25",
   "metadata": {},
   "source": [
    "30 - Substring with Concatenation of All Words\n",
    "https://leetcode.com/problems/substring-with-concatenation-of-all-words/"
   ]
  },
  {
   "cell_type": "code",
   "execution_count": null,
   "id": "b8b2f772",
   "metadata": {},
   "outputs": [],
   "source": [
    "class Solution:\n",
    "    def findSubstring(self, s, words):\n",
    "        dicts_words = {}\n",
    "        word_index = []\n",
    "        words_len = len(words) * len(words[0])\n",
    "\n",
    "        words_list = [\n",
    "            s[i : i + (words_len)]\n",
    "            for i in range(len(s))\n",
    "            if len(s[i : i + (words_len)]) == words_len\n",
    "        ]\n",
    "\n",
    "        for i in words:\n",
    "            if i in dicts_words:\n",
    "                dicts_words[i] += 1\n",
    "            else:\n",
    "                dicts_words[i] = 1\n",
    "\n",
    "        for word in words_list:\n",
    "            temp_dicts_words = {}\n",
    "            res = [\n",
    "                word[i : i + len(words[0])] for i in range(0, len(word), len(words[0]))\n",
    "            ]\n",
    "            for i in res:\n",
    "                if i in temp_dicts_words:\n",
    "                    temp_dicts_words[i] += 1\n",
    "                else:\n",
    "                    temp_dicts_words[i] = 1\n",
    "\n",
    "            if temp_dicts_words == dicts_words:\n",
    "                word_index.extend(\n",
    "                    index\n",
    "                    for index in range(len(s))\n",
    "                    if s[index : index + words_len] == word\n",
    "                )\n",
    "\n",
    "        del s, words, dicts_words, words_len, words_list\n",
    "\n",
    "        return list(set(word_index))\n",
    "\n",
    "\n",
    "print(Solution().findSubstring(\"barfoothefoobarman\", [\"foo\", \"bar\"]))\n",
    "print(\n",
    "    Solution().findSubstring(\n",
    "        \"wordgoodgoodgoodbestword\", [\"word\", \"good\", \"best\", \"word\"]\n",
    "    )\n",
    ")\n",
    "print(Solution().findSubstring(\"barfoofoobarthefoobarman\", [\"bar\", \"foo\", \"the\"]))\n",
    "print(\n",
    "    Solution().findSubstring(\n",
    "        \"lingmindraboofooowingdingbarrwingmonkeypoundcake\",\n",
    "        [\"fooo\", \"barr\", \"wing\", \"ding\", \"wing\"],\n",
    "    )\n",
    ")\n",
    "print(Solution().findSubstring(\"foobarfoobar\", [\"foo\", \"bar\"]))"
   ]
  },
  {
   "attachments": {},
   "cell_type": "markdown",
   "id": "b3eb634e",
   "metadata": {},
   "source": [
    "35 - Search Insert Position\n",
    "https://leetcode.com/problems/search-insert-position/"
   ]
  },
  {
   "cell_type": "code",
   "execution_count": null,
   "id": "fc8b4323",
   "metadata": {},
   "outputs": [],
   "source": [
    "class Solution:\n",
    "    def searchInsert(self, nums, target):\n",
    "        if target is None or target <= nums[0]:\n",
    "            return 0\n",
    "        if target > nums[-1]:\n",
    "            return len(nums)\n",
    "        if nums[0] <= target <= nums[-1]:\n",
    "            for i in range(len(nums)):\n",
    "                if nums[i] <= target <= nums[i + 1]:\n",
    "                    return i + 1\n",
    "\n",
    "\n",
    "target, nums = 2, [1]\n",
    "Solution().searchInsert(nums, target)"
   ]
  },
  {
   "attachments": {},
   "cell_type": "markdown",
   "id": "e265af2d",
   "metadata": {},
   "source": [
    "70 - Climbing Stairs\n",
    "https://leetcode.com/problems/climbing-stairs/"
   ]
  },
  {
   "cell_type": "code",
   "execution_count": null,
   "id": "956d8b33",
   "metadata": {},
   "outputs": [],
   "source": [
    "class Solution:\n",
    "    def climbStairs(self, n):\n",
    "        dict_steps = {0: 0, 1: 1, 2: 2}\n",
    "        if n not in dict_steps.keys():\n",
    "            for i in range(3, n + 1):\n",
    "                dict_steps[i] = dict_steps[i - 1] + dict_steps[i - 2]\n",
    "            print(dict_steps[n])\n",
    "        return dict_steps[n]\n",
    "\n",
    "\n",
    "Solution().climbStairs(12)"
   ]
  },
  {
   "attachments": {},
   "cell_type": "markdown",
   "id": "3af1e1e8",
   "metadata": {},
   "source": [
    "150 - Evaluate Reverse Polish Notation\n",
    "https://leetcode.com/problems/evaluate-reverse-polish-notation/description/"
   ]
  },
  {
   "cell_type": "code",
   "execution_count": null,
   "id": "680ccbc8",
   "metadata": {},
   "outputs": [],
   "source": [
    "import itertools\n",
    "import math\n",
    "\n",
    "\n",
    "class Solution:\n",
    "    def evalRPN(self, tokens):\n",
    "        ops = [\"+\", \"-\", \"*\", \"/\"]\n",
    "\n",
    "        while len(tokens) > 1:\n",
    "            for i, op in itertools.product(range(len(tokens)), ops):\n",
    "                if op == tokens[i]:\n",
    "                    token_i = tokens[i]\n",
    "                    token_i_1 = int(tokens[i - 1])\n",
    "                    token_i_2 = int(tokens[i - 2])\n",
    "                    if tokens[i] == \"+\":\n",
    "                        val = token_i_2 + token_i_1\n",
    "                    elif tokens[i] == \"-\":\n",
    "                        val = token_i_2 - token_i_1\n",
    "                    elif tokens[i] == \"*\":\n",
    "                        val = int(math.floor(token_i_2 * token_i_1))\n",
    "                    elif tokens[i] == \"/\":\n",
    "                        if (token_i_2 > 0 and token_i_1 < 0) or (\n",
    "                            token_i_2 < 0 and token_i_1 > 0\n",
    "                        ):\n",
    "                            val = int(math.ceil(token_i_2 / token_i_1))\n",
    "                        else:\n",
    "                            val = int(math.floor(token_i_2 / token_i_1))\n",
    "                    tokens[i] = str(val)\n",
    "                    tokens.pop(i - 2)\n",
    "                    tokens.pop(i - 2)\n",
    "                    break\n",
    "        return int(tokens[0])\n",
    "\n",
    "\n",
    "tokens1 = [\"2\", \"1\", \"+\", \"3\", \"*\"]\n",
    "tokens2 = [\"4\", \"13\", \"5\", \"/\", \"+\"]\n",
    "tokens3 = [\"10\", \"6\", \"9\", \"3\", \"+\", \"-11\", \"*\", \"/\", \"*\", \"17\", \"+\", \"5\", \"+\"]\n",
    "tokens4 = [\"4\", \"-2\", \"/\", \"2\", \"-3\", \"-\", \"-\"]\n",
    "print(Solution().evalRPN(tokens1))\n",
    "print(Solution().evalRPN(tokens2))\n",
    "print(Solution().evalRPN(tokens3))\n",
    "print(Solution().evalRPN(tokens4))"
   ]
  },
  {
   "attachments": {},
   "cell_type": "markdown",
   "id": "bbe1661a",
   "metadata": {},
   "source": [
    "841 - Keys and Rooms\n",
    "https://leetcode.com/problems/keys-and-rooms/"
   ]
  },
  {
   "cell_type": "code",
   "execution_count": null,
   "id": "f14d9b2f",
   "metadata": {},
   "outputs": [],
   "source": [
    "class Solution:\n",
    "    def canVisitAllRooms(self, rooms):\n",
    "        key = [0] + rooms[0]\n",
    "        open_rooms = []\n",
    "        for _ in range(10):\n",
    "            temp_key = key[:]\n",
    "            for i in range(len(rooms)):\n",
    "                if i in key:\n",
    "                    key += rooms[i]\n",
    "            key = list(set(key))\n",
    "            if key == temp_key:\n",
    "                break\n",
    "        return all(i in key for i in range(len(rooms)))\n",
    "\n",
    "\n",
    "print(Solution().canVisitAllRooms([[1], [2], [3], []]))\n",
    "print(Solution().canVisitAllRooms([[1, 3], [3, 0, 1], [2], [0]]))"
   ]
  },
  {
   "attachments": {},
   "cell_type": "markdown",
   "id": "5221a45e",
   "metadata": {},
   "source": [
    "1791 - Find Center of Star Graph\n",
    "https://leetcode.com/problems/find-center-of-star-graph/"
   ]
  },
  {
   "cell_type": "code",
   "execution_count": null,
   "id": "eba18da4",
   "metadata": {},
   "outputs": [],
   "source": [
    "class Solution:\n",
    "    def findCenter(self, edges):\n",
    "        if edges[0][0] in (edges[1][0], edges[1][1]):\n",
    "            return edges[0][0]\n",
    "        elif edges[0][1] in (edges[1][0], edges[1][1]):\n",
    "            return edges[0][1]\n",
    "\n",
    "\n",
    "edge = [[1, 0], [2, 1]]\n",
    "Solution().findCenter(edge)"
   ]
  },
  {
   "attachments": {},
   "cell_type": "markdown",
   "id": "3c4e474c",
   "metadata": {},
   "source": [
    "### 1143 - Longest Common Subsequence"
   ]
  },
  {
   "cell_type": "code",
   "execution_count": null,
   "id": "6121775f",
   "metadata": {},
   "outputs": [],
   "source": [
    "import itertools\n",
    "\n",
    "\n",
    "\n",
    "class Solution:\n",
    "\n",
    "    def longestCommonSubsequence(self, text1, text2):\n",
    "\n",
    "        list_text1_temp = list(text1)\n",
    "\n",
    "        list_text2_temp = list(text2)\n",
    "\n",
    "\n",
    "        list_text1 = [x for x in list_text1_temp if x in list_text2_temp]\n",
    "\n",
    "        list_text2 = [x for x in list_text2_temp if x in list_text1_temp]\n",
    "\n",
    "\n",
    "        dp = [\n",
    "\n",
    "            [0 for _ in range(len(list_text2) + 1)] for _ in range(len(list_text1) + 1)\n",
    "        ]\n",
    "\n",
    "\n",
    "        for i, j in itertools.product(\n",
    "            range(len(list_text1) - 1, -1, -1), range(len(list_text2) - 1, -1, -1)\n",
    "        ):\n",
    "\n",
    "            dp[i][j] = (\n",
    "\n",
    "                1 + dp[i + 1][j + 1]\n",
    "\n",
    "                if list_text1[i] == list_text2[j]\n",
    "\n",
    "                else max(dp[i][j + 1], dp[i + 1][j])\n",
    "            )\n",
    "\n",
    "        return dp[0][0]\n",
    "\n",
    "\n",
    "\n",
    "print(\n",
    "    \"Should be 2 - \", Solution().longestCommonSubsequence(\"oxcpqrsvwf\", \"shmtulqrypy\")\n",
    ")\n",
    "\n",
    "print(\n",
    "    \"Should be 4 - \",\n",
    "    Solution().longestCommonSubsequence(\"pmjghexybyrgzczy\", \"hafcdqbgncrcbihkd\"),\n",
    ")\n",
    "\n",
    "print(\n",
    "    \"Should be 6 - \",\n",
    "    Solution().longestCommonSubsequence(\"mhunuzqrkzsnidwbun\", \"szulspmhwpazoxijwbq\"),\n",
    ")"
   ]
  },
  {
   "attachments": {},
   "cell_type": "markdown",
   "id": "331494bb",
   "metadata": {},
   "source": [
    "### 1929 - Concatenation of Array"
   ]
  },
  {
   "cell_type": "code",
   "execution_count": null,
   "id": "2d2e3a0b",
   "metadata": {},
   "outputs": [],
   "source": [
    "class Solution:\n",
    "    def getConcatenation(self, nums):\n",
    "        return nums + nums"
   ]
  },
  {
   "attachments": {},
   "cell_type": "markdown",
   "id": "ceeba29d",
   "metadata": {},
   "source": [
    "### 1920 - Build Array from Permutation"
   ]
  },
  {
   "cell_type": "code",
   "execution_count": null,
   "id": "393125ff",
   "metadata": {},
   "outputs": [],
   "source": [
    "class Solution:\n",
    "    def buildArray(self, nums):\n",
    "        return [nums[i] for i in nums]\n",
    "\n",
    "\n",
    "Solution().buildArray([0, 2, 1, 5, 3, 4])"
   ]
  },
  {
   "attachments": {},
   "cell_type": "markdown",
   "id": "08fc69be",
   "metadata": {},
   "source": [
    "### 1480 - Running Sum of 1d Array"
   ]
  },
  {
   "cell_type": "code",
   "execution_count": null,
   "id": "f87bb2e6",
   "metadata": {},
   "outputs": [],
   "source": [
    "class Solution:\n",
    "    def runningSum(self, nums):\n",
    "        temp = [0]\n",
    "        temp.extend(i + temp[-1] for i in nums)\n",
    "        return temp[1:]\n",
    "\n",
    "\n",
    "nums = [3, 1, 2, 10, 1]\n",
    "Solution().runningSum(nums)"
   ]
  },
  {
   "attachments": {},
   "cell_type": "markdown",
   "id": "e15c97ea",
   "metadata": {},
   "source": [
    "### 2011 - Final Value of Variable After Performing Operations"
   ]
  },
  {
   "cell_type": "code",
   "execution_count": null,
   "id": "3c938e1a",
   "metadata": {},
   "outputs": [],
   "source": [
    "class Solution:\n",
    "    def finalValueAfterOperations(self, operations):\n",
    "        val = 0\n",
    "        for i in operations:\n",
    "            if \"+\" in i:\n",
    "                val += 1\n",
    "            elif \"-\" in i:\n",
    "                val -= 1\n",
    "        return val\n",
    "\n",
    "\n",
    "print(Solution().finalValueAfterOperations([\"--X\", \"X++\", \"X++\"]))\n",
    "print(Solution().finalValueAfterOperations([\"X++\", \"++X\", \"--X\", \"X--\"]))"
   ]
  },
  {
   "attachments": {},
   "cell_type": "markdown",
   "id": "23d86912",
   "metadata": {},
   "source": [
    "### 491 - Non-decreasing Subsequences"
   ]
  },
  {
   "cell_type": "code",
   "execution_count": null,
   "id": "c0a7d999",
   "metadata": {},
   "outputs": [],
   "source": [
    "class Solution:\n",
    "    def findSubsequences(self, nums):\n",
    "        temp = []\n",
    "        temp_list = []\n",
    "        for i in range(len(nums)):\n",
    "            temp = []\n",
    "            for j in range(i + 1, len(nums)):\n",
    "                temp = [nums[i], nums[j]]\n",
    "                # print(temp)\n",
    "                if temp not in temp_list:\n",
    "                    temp_list = temp_list + [temp]\n",
    "        # print(temp_list)\n",
    "        return temp_list\n",
    "\n",
    "\n",
    "nums = [4, 6, 7, 7]\n",
    "Solution().findSubsequences(nums)"
   ]
  },
  {
   "attachments": {},
   "cell_type": "markdown",
   "id": "8eb1ea4b",
   "metadata": {},
   "source": [
    "1365 - How Many Numbers Are Smaller Than the Current Number\n",
    "https://leetcode.com/problems/how-many-numbers-are-smaller-than-the-current-number/"
   ]
  },
  {
   "cell_type": "code",
   "execution_count": null,
   "id": "fe734d8e",
   "metadata": {},
   "outputs": [],
   "source": [
    "nums = [8, 1, 2, 2, 3]\n",
    "output = [4, 0, 1, 1, 3]\n",
    "\n",
    "\n",
    "class Solution:\n",
    "    def smallerNumbersThanCurrent(self, nums):\n",
    "        temp = sorted(nums)\n",
    "        mapping = {}\n",
    "        for i in range(len(temp)):\n",
    "            if temp[i] not in mapping:\n",
    "                mapping[temp[i]] = i\n",
    "        return [mapping[nums[i]] for i in range(len(nums))]\n",
    "\n",
    "\n",
    "print(nums)\n",
    "print(output)\n",
    "print(Solution().smallerNumbersThanCurrent(nums))"
   ]
  },
  {
   "attachments": {},
   "cell_type": "markdown",
   "id": "da330987",
   "metadata": {},
   "source": [
    "938 - Range Sum of BST\n",
    "https://leetcode.com/problems/range-sum-of-bst/"
   ]
  },
  {
   "cell_type": "code",
   "execution_count": null,
   "id": "bf5b9749",
   "metadata": {},
   "outputs": [],
   "source": [
    "# Definition for a binary tree node.\n",
    "# class TreeNode:\n",
    "#     def __init__(self, val=0, left=None, right=None):\n",
    "#         self.val = val\n",
    "#         self.left = left\n",
    "#         self.right = right\n",
    "\n",
    "root = [10, 5, 15, 3, 7, None, 18]  # In TreeNode Format\n",
    "low = 7\n",
    "high = 15\n",
    "output = 32\n",
    "\n",
    "print(\"root :\", root)\n",
    "print(\"low :\", low)\n",
    "print(\"high :\", high)\n",
    "print(\"output :\", output)\n",
    "\n",
    "\n",
    "class Solution:\n",
    "    def inRangeChecker(self, root, low, high):\n",
    "        if root:\n",
    "            if low <= root.val <= high and root.val not in self.arr:\n",
    "                self.arr.append(root.val)\n",
    "                if root.left:\n",
    "                    self.inRangeChecker(root.left, low, high)\n",
    "                if root.right:\n",
    "                    self.inRangeChecker(root.right, low, high)\n",
    "\n",
    "            elif root.val >= high and root.left:\n",
    "                self.inRangeChecker(root.left, low, high)\n",
    "\n",
    "            elif root.val <= low and root.right:\n",
    "                self.inRangeChecker(root.right, low, high)\n",
    "\n",
    "    def rangeSumBST(self, root, low, high):\n",
    "        self.arr = []\n",
    "        self.inRangeChecker(root, low, high)\n",
    "        return sum(self.arr)\n",
    "\n",
    "\n",
    "# Alternate Solution\n",
    "class Solution:\n",
    "    def rangeSumBST(self, root, low, high):\n",
    "        if root is None:\n",
    "            return 0\n",
    "        if root.val > high:\n",
    "            return self.rangeSumBST(root.left, low, high)\n",
    "        if root.val < low:\n",
    "            return self.rangeSumBST(root.right, low, high)\n",
    "        return (\n",
    "            root.val\n",
    "            + self.rangeSumBST(root.left, low, high)\n",
    "            + self.rangeSumBST(root.right, low, high)\n",
    "        )"
   ]
  },
  {
   "attachments": {},
   "cell_type": "markdown",
   "id": "60156cfb",
   "metadata": {},
   "source": [
    "125 - Valid Palindrome\n",
    "https://leetcode.com/problems/valid-palindrome/"
   ]
  },
  {
   "cell_type": "code",
   "execution_count": null,
   "id": "46a57978",
   "metadata": {},
   "outputs": [],
   "source": [
    "class Solution:\n",
    "    def isPalindrome(self, s):\n",
    "        s = re.sub(r\"[^A-Za-z]+\", \" \", s.lower())\n",
    "        return str(s) == str(s)[::-1]"
   ]
  },
  {
   "attachments": {},
   "cell_type": "markdown",
   "id": "776d216e",
   "metadata": {},
   "source": [
    "169 - Majority Element\n",
    "https://leetcode.com/problems/majority-element/description/"
   ]
  },
  {
   "cell_type": "code",
   "execution_count": null,
   "id": "34927176",
   "metadata": {},
   "outputs": [],
   "source": [
    "class Solution:\n",
    "    def majorityElement(self, nums):\n",
    "        result, counter = 0, 0\n",
    "        for i in nums:\n",
    "            if counter == 0:\n",
    "                result = i\n",
    "            counter += 1 if i == result else -1\n",
    "        return result\n",
    "        # return max(nums,key=nums.count)\n",
    "\n",
    "\n",
    "nums = [3, 2, 3]"
   ]
  }
 ],
 "metadata": {
  "kernelspec": {
   "display_name": "Python 3.10.8 64-bit",
   "language": "python",
   "name": "python3"
  },
  "language_info": {
   "codemirror_mode": {
    "name": "ipython",
    "version": 3
   },
   "file_extension": ".py",
   "mimetype": "text/x-python",
   "name": "python",
   "nbconvert_exporter": "python",
   "pygments_lexer": "ipython3",
   "version": "3.11.1"
  },
  "vscode": {
   "interpreter": {
    "hash": "26de051ba29f2982a8de78e945f0abaf191376122a1563185a90213a26c5da77"
   }
  }
 },
 "nbformat": 4,
 "nbformat_minor": 5
}
